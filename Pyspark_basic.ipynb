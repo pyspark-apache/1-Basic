{
 "cells": [
  {
   "cell_type": "markdown",
   "id": "framed-tongue",
   "metadata": {},
   "source": [
    "# Pyspark Basic Intro"
   ]
  },
  {
   "cell_type": "markdown",
   "id": "3b42b31c-033d-4192-9833-2017106d7cd6",
   "metadata": {},
   "source": [
    "## 1. Import pyspark"
   ]
  },
  {
   "cell_type": "code",
   "execution_count": 2,
   "id": "4547e480-c462-46aa-b995-4be8bade0a0a",
   "metadata": {},
   "outputs": [],
   "source": [
    "import pyspark\n"
   ]
  },
  {
   "cell_type": "code",
   "execution_count": 2,
   "id": "1dfc42ef-ae42-4d62-a372-e9b0246e94cf",
   "metadata": {},
   "outputs": [
    {
     "name": "stdout",
     "output_type": "stream",
     "text": [
      "21/05/31 13:55:52 WARN Utils: Your hostname, abel-Surface-Pro resolves to a loopback address: 127.0.1.1; using 192.168.0.33 instead (on interface wlp1s0)\n",
      "21/05/31 13:55:52 WARN Utils: Set SPARK_LOCAL_IP if you need to bind to another address\n",
      "Welcome to\n",
      "      ____              __\n",
      "     / __/__  ___ _____/ /__\n",
      "    _\\ \\/ _ \\/ _ `/ __/  '_/\n",
      "   /___/ .__/\\_,_/_/ /_/\\_\\   version 3.0.1\n",
      "      /_/\n",
      "                        \n",
      "Using Scala version 2.12.10, OpenJDK 64-Bit Server VM, 1.8.0_152-release\n",
      "Branch HEAD\n",
      "Compiled by user ubuntu on 2020-08-28T07:36:48Z\n",
      "Revision 2b147c4cd50da32fe2b4167f97c8142102a0510d\n",
      "Url https://gitbox.apache.org/repos/asf/spark.git\n",
      "Type --help for more information.\n"
     ]
    }
   ],
   "source": [
    "!pyspark --version"
   ]
  },
  {
   "cell_type": "code",
   "execution_count": 3,
   "id": "sharing-vanilla",
   "metadata": {},
   "outputs": [],
   "source": [
    "import pandas as pd"
   ]
  },
  {
   "cell_type": "code",
   "execution_count": 4,
   "id": "healthy-bracket",
   "metadata": {},
   "outputs": [
    {
     "output_type": "execute_result",
     "data": {
      "text/plain": [
       "    Order ID                     Product  Quantity Ordered  Price Each  \\\n",
       "0     236670            Wired Headphones                 2       11.99   \n",
       "1     236671  Bose SoundSport Headphones                 1       99.99   \n",
       "2     236672                      iPhone                 1      700.00   \n",
       "3     236673       AA Batteries (4-pack)                 2        3.84   \n",
       "4     236674       AA Batteries (4-pack)                 2        3.84   \n",
       "5     236675            Wired Headphones                 1       11.99   \n",
       "6     236676      34in Ultrawide Monitor                 1      379.99   \n",
       "7     236677                20in Monitor                 1      109.99   \n",
       "8     236678            Wired Headphones                 1       11.99   \n",
       "9     236679          Macbook Pro Laptop                 1     1700.00   \n",
       "10    236680          LG Washing Machine                 1      600.00   \n",
       "\n",
       "        Order Date                        Purchase Address  \n",
       "0   08/31/19 22:21        359 Spruce St, Seattle, WA 98101  \n",
       "1   08/15/19 15:11          492 Ridge St, Dallas, TX 75001  \n",
       "2   08/06/19 14:40          149 7th St, Portland, OR 97035  \n",
       "3   08/29/19 20:59       631 2nd St, Los Angeles, CA 90001  \n",
       "4   08/15/19 19:53    736 14th St, New York City, NY 10001  \n",
       "5   08/02/19 23:54    470 Hill St, San Francisco, CA 94016  \n",
       "6   08/04/19 19:52    470 Cherry St, Los Angeles, CA 90001  \n",
       "7   08/13/19 07:16     918 6th St, San Francisco, CA 94016  \n",
       "8   08/25/19 20:11      58 9th St, San Francisco, CA 94016  \n",
       "9   08/07/19 15:43    239 Spruce St, Los Angeles, CA 90001  \n",
       "10  08/09/19 19:38  967 Willow St, San Francisco, CA 94016  "
      ],
      "text/html": "<div>\n<style scoped>\n    .dataframe tbody tr th:only-of-type {\n        vertical-align: middle;\n    }\n\n    .dataframe tbody tr th {\n        vertical-align: top;\n    }\n\n    .dataframe thead th {\n        text-align: right;\n    }\n</style>\n<table border=\"1\" class=\"dataframe\">\n  <thead>\n    <tr style=\"text-align: right;\">\n      <th></th>\n      <th>Order ID</th>\n      <th>Product</th>\n      <th>Quantity Ordered</th>\n      <th>Price Each</th>\n      <th>Order Date</th>\n      <th>Purchase Address</th>\n    </tr>\n  </thead>\n  <tbody>\n    <tr>\n      <th>0</th>\n      <td>236670</td>\n      <td>Wired Headphones</td>\n      <td>2</td>\n      <td>11.99</td>\n      <td>08/31/19 22:21</td>\n      <td>359 Spruce St, Seattle, WA 98101</td>\n    </tr>\n    <tr>\n      <th>1</th>\n      <td>236671</td>\n      <td>Bose SoundSport Headphones</td>\n      <td>1</td>\n      <td>99.99</td>\n      <td>08/15/19 15:11</td>\n      <td>492 Ridge St, Dallas, TX 75001</td>\n    </tr>\n    <tr>\n      <th>2</th>\n      <td>236672</td>\n      <td>iPhone</td>\n      <td>1</td>\n      <td>700.00</td>\n      <td>08/06/19 14:40</td>\n      <td>149 7th St, Portland, OR 97035</td>\n    </tr>\n    <tr>\n      <th>3</th>\n      <td>236673</td>\n      <td>AA Batteries (4-pack)</td>\n      <td>2</td>\n      <td>3.84</td>\n      <td>08/29/19 20:59</td>\n      <td>631 2nd St, Los Angeles, CA 90001</td>\n    </tr>\n    <tr>\n      <th>4</th>\n      <td>236674</td>\n      <td>AA Batteries (4-pack)</td>\n      <td>2</td>\n      <td>3.84</td>\n      <td>08/15/19 19:53</td>\n      <td>736 14th St, New York City, NY 10001</td>\n    </tr>\n    <tr>\n      <th>5</th>\n      <td>236675</td>\n      <td>Wired Headphones</td>\n      <td>1</td>\n      <td>11.99</td>\n      <td>08/02/19 23:54</td>\n      <td>470 Hill St, San Francisco, CA 94016</td>\n    </tr>\n    <tr>\n      <th>6</th>\n      <td>236676</td>\n      <td>34in Ultrawide Monitor</td>\n      <td>1</td>\n      <td>379.99</td>\n      <td>08/04/19 19:52</td>\n      <td>470 Cherry St, Los Angeles, CA 90001</td>\n    </tr>\n    <tr>\n      <th>7</th>\n      <td>236677</td>\n      <td>20in Monitor</td>\n      <td>1</td>\n      <td>109.99</td>\n      <td>08/13/19 07:16</td>\n      <td>918 6th St, San Francisco, CA 94016</td>\n    </tr>\n    <tr>\n      <th>8</th>\n      <td>236678</td>\n      <td>Wired Headphones</td>\n      <td>1</td>\n      <td>11.99</td>\n      <td>08/25/19 20:11</td>\n      <td>58 9th St, San Francisco, CA 94016</td>\n    </tr>\n    <tr>\n      <th>9</th>\n      <td>236679</td>\n      <td>Macbook Pro Laptop</td>\n      <td>1</td>\n      <td>1700.00</td>\n      <td>08/07/19 15:43</td>\n      <td>239 Spruce St, Los Angeles, CA 90001</td>\n    </tr>\n    <tr>\n      <th>10</th>\n      <td>236680</td>\n      <td>LG Washing Machine</td>\n      <td>1</td>\n      <td>600.00</td>\n      <td>08/09/19 19:38</td>\n      <td>967 Willow St, San Francisco, CA 94016</td>\n    </tr>\n  </tbody>\n</table>\n</div>"
     },
     "metadata": {},
     "execution_count": 4
    }
   ],
   "source": [
    "pd.read_csv(\"./data/data.csv\")"
   ]
  },
  {
   "cell_type": "markdown",
   "id": "0a2ac975-31e1-4ecf-b327-067aee23586b",
   "metadata": {},
   "source": [
    "## 2. Importar SparkSession"
   ]
  },
  {
   "cell_type": "markdown",
   "id": "8ceedc9e-d22c-4fb6-a08c-231262401005",
   "metadata": {},
   "source": [
    "Una SparkSession se puede usar para crear DataFrame, registrar DataFrame como tablas, ejecutar SQL sobre tablas, almacenar en caché tablas y leer archivos de parquet. "
   ]
  },
  {
   "cell_type": "code",
   "execution_count": 5,
   "id": "aware-antique",
   "metadata": {},
   "outputs": [],
   "source": [
    "from pyspark.sql import SparkSession"
   ]
  },
  {
   "cell_type": "code",
   "execution_count": 6,
   "id": "cardiovascular-optimum",
   "metadata": {},
   "outputs": [],
   "source": [
    "spark = SparkSession.builder.appName(\"Practice\").getOrCreate()"
   ]
  },
  {
   "cell_type": "code",
   "execution_count": 7,
   "id": "universal-vermont",
   "metadata": {},
   "outputs": [
    {
     "data": {
      "text/html": [
       "\n",
       "            <div>\n",
       "                <p><b>SparkSession - in-memory</b></p>\n",
       "                \n",
       "        <div>\n",
       "            <p><b>SparkContext</b></p>\n",
       "\n",
       "            <p><a href=\"http://192.168.0.33:4040\">Spark UI</a></p>\n",
       "\n",
       "            <dl>\n",
       "              <dt>Version</dt>\n",
       "                <dd><code>v3.0.1</code></dd>\n",
       "              <dt>Master</dt>\n",
       "                <dd><code>local[*]</code></dd>\n",
       "              <dt>AppName</dt>\n",
       "                <dd><code>Practice</code></dd>\n",
       "            </dl>\n",
       "        </div>\n",
       "        \n",
       "            </div>\n",
       "        "
      ],
      "text/plain": [
       "<pyspark.sql.session.SparkSession at 0x7f54c8b43340>"
      ]
     },
     "execution_count": 7,
     "metadata": {},
     "output_type": "execute_result"
    }
   ],
   "source": [
    "spark"
   ]
  },
  {
   "cell_type": "code",
   "execution_count": null,
   "id": "unnecessary-webster",
   "metadata": {},
   "outputs": [],
   "source": [
    "df_pyspark = spark.read.csv(\"all_data.csv\")"
   ]
  },
  {
   "cell_type": "code",
   "execution_count": 20,
   "id": "corporate-promotion",
   "metadata": {},
   "outputs": [
    {
     "data": {
      "text/plain": [
       "pyspark.sql.dataframe.DataFrame"
      ]
     },
     "execution_count": 20,
     "metadata": {},
     "output_type": "execute_result"
    }
   ],
   "source": [
    "type(df_pyspark)"
   ]
  },
  {
   "cell_type": "code",
   "execution_count": 29,
   "id": "velvet-treasure",
   "metadata": {},
   "outputs": [
    {
     "name": "stdout",
     "output_type": "stream",
     "text": [
      "+--------+--------------------+----------------+----------+--------------+--------------------+\n",
      "|Order ID|             Product|Quantity Ordered|Price Each|    Order Date|    Purchase Address|\n",
      "+--------+--------------------+----------------+----------+--------------+--------------------+\n",
      "|  236670|    Wired Headphones|               2|     11.99|08/31/19 22:21|359 Spruce St, Se...|\n",
      "|  236671|Bose SoundSport H...|               1|     99.99|08/15/19 15:11|492 Ridge St, Dal...|\n",
      "|  236672|              iPhone|               1|     700.0|08/06/19 14:40|149 7th St, Portl...|\n",
      "|  236673|AA Batteries (4-p...|               2|      3.84|08/29/19 20:59|631 2nd St, Los A...|\n",
      "|  236674|AA Batteries (4-p...|               2|      3.84|08/15/19 19:53|736 14th St, New ...|\n",
      "|  236675|    Wired Headphones|               1|     11.99|08/02/19 23:54|470 Hill St, San ...|\n",
      "|  236676|34in Ultrawide Mo...|               1|    379.99|08/04/19 19:52|470 Cherry St, Lo...|\n",
      "|  236677|        20in Monitor|               1|    109.99|08/13/19 07:16|918 6th St, San F...|\n",
      "|  236678|    Wired Headphones|               1|     11.99|08/25/19 20:11|58 9th St, San Fr...|\n",
      "|  236679|  Macbook Pro Laptop|               1|    1700.0|08/07/19 15:43|239 Spruce St, Lo...|\n",
      "|  236680|  LG Washing Machine|               1|     600.0|08/09/19 19:38|967 Willow St, Sa...|\n",
      "|  236681|AA Batteries (4-p...|               1|      3.84|08/26/19 20:52|295 1st St, Bosto...|\n",
      "|  236682|AA Batteries (4-p...|               1|      3.84|08/19/19 12:40|118 Johnson St, P...|\n",
      "|  236683|    27in FHD Monitor|               1|    149.99|08/31/19 15:47|196 West St, Dall...|\n",
      "|  236684|Lightning Chargin...|               1|     14.95|08/09/19 16:50|669 12th St, New ...|\n",
      "|  236685|Apple Airpods Hea...|               1|     150.0|08/23/19 19:29|238 Highland St, ...|\n",
      "|  236686|AAA Batteries (4-...|               1|      2.99|08/15/19 19:13|766 Maple St, Dal...|\n",
      "|  236687|USB-C Charging Cable|               1|     11.95|08/23/19 12:54|668 Meadow St, Ne...|\n",
      "|  236688|34in Ultrawide Mo...|               1|    379.99|08/08/19 16:06|821 7th St, Los A...|\n",
      "|  236689|AAA Batteries (4-...|               1|      2.99|08/21/19 10:55|13 Cedar St, San ...|\n",
      "+--------+--------------------+----------------+----------+--------------+--------------------+\n",
      "only showing top 20 rows\n",
      "\n"
     ]
    }
   ],
   "source": [
    "df_pyspark = spark.read.option(\"header\",\"true\").csv(\"all_data.csv\")\n",
    "df_pyspark.show()"
   ]
  },
  {
   "cell_type": "markdown",
   "id": "e4c64d50-6e87-465e-8762-5c898a6f6051",
   "metadata": {},
   "source": [
    "## 3. Imprimir el Schema"
   ]
  },
  {
   "cell_type": "code",
   "execution_count": 30,
   "id": "crude-theorem",
   "metadata": {},
   "outputs": [
    {
     "data": {
      "text/plain": [
       "pyspark.sql.dataframe.DataFrame"
      ]
     },
     "execution_count": 30,
     "metadata": {},
     "output_type": "execute_result"
    }
   ],
   "source": [
    "type(df_pyspark)"
   ]
  },
  {
   "cell_type": "code",
   "execution_count": 32,
   "id": "lasting-architect",
   "metadata": {},
   "outputs": [
    {
     "name": "stdout",
     "output_type": "stream",
     "text": [
      "root\n",
      " |-- Order ID: string (nullable = true)\n",
      " |-- Product: string (nullable = true)\n",
      " |-- Quantity Ordered: string (nullable = true)\n",
      " |-- Price Each: string (nullable = true)\n",
      " |-- Order Date: string (nullable = true)\n",
      " |-- Purchase Address: string (nullable = true)\n",
      "\n"
     ]
    }
   ],
   "source": [
    "df_pyspark.printSchema()"
   ]
  },
  {
   "cell_type": "markdown",
   "id": "902a14ab-80ad-40b2-90e1-f6b65d646239",
   "metadata": {},
   "source": []
  }
 ],
 "metadata": {
  "kernelspec": {
   "name": "python385jvsc74a57bd08074823acd5c3a3d09bb7e213185604cc165448fdf784ed6340a88bbe2d6be2e",
   "display_name": "Python 3.8.5 64-bit ('spark-course': conda)"
  },
  "language_info": {
   "codemirror_mode": {
    "name": "ipython",
    "version": 3
   },
   "file_extension": ".py",
   "mimetype": "text/x-python",
   "name": "python",
   "nbconvert_exporter": "python",
   "pygments_lexer": "ipython3",
   "version": "3.8.5"
  },
  "metadata": {
   "interpreter": {
    "hash": "8074823acd5c3a3d09bb7e213185604cc165448fdf784ed6340a88bbe2d6be2e"
   }
  }
 },
 "nbformat": 4,
 "nbformat_minor": 5
}